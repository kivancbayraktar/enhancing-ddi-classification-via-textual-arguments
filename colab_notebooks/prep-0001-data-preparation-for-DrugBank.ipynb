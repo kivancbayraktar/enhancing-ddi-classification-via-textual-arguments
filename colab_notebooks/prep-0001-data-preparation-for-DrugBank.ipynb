{
 "cells": [
  {
   "cell_type": "code",
   "execution_count": null,
   "metadata": {
    "colab": {
     "base_uri": "https://localhost:8080/"
    },
    "executionInfo": {
     "elapsed": 4191,
     "status": "ok",
     "timestamp": 1750254644960,
     "user": {
      "displayName": "Kıvanç Bayraktar",
      "userId": "11245950487112733881"
     },
     "user_tz": -180
    },
    "id": "X5L1GIaK3KQu",
    "outputId": "cf12ac69-4570-4d2e-c902-5477227318e8"
   },
   "outputs": [],
   "source": [
    "!pip install ddi-fw==0.0.239\n",
    "# !pip install ddi-fw[drugbank]"
   ]
  },
  {
   "cell_type": "code",
   "execution_count": null,
   "metadata": {
    "colab": {
     "base_uri": "https://localhost:8080/"
    },
    "executionInfo": {
     "elapsed": 12526,
     "status": "ok",
     "timestamp": 1750254657489,
     "user": {
      "displayName": "Kıvanç Bayraktar",
      "userId": "11245950487112733881"
     },
     "user_tz": -180
    },
    "id": "u2Z7ulJUPlmT",
    "outputId": "8e4ddbe5-9e53-4d6d-c513-ef197dda62fe"
   },
   "outputs": [],
   "source": [
    "# !pip install rdkit-pypi\n",
    "# !pip install xmlschema\n",
    "# !pip install stanza\n",
    "\n",
    "!pip install \"rdkit==2025.3.3\",\n",
    "!pip install  \"xmlschema==3.4.2\",\n",
    "!pip install  \"stanza>=1.9.2,<=1.10.1\""
   ]
  },
  {
   "cell_type": "code",
   "execution_count": null,
   "metadata": {
    "id": "2gxECjuoa7UZ"
   },
   "outputs": [],
   "source": [
    "from google.colab import userdata"
   ]
  },
  {
   "cell_type": "code",
   "execution_count": null,
   "metadata": {
    "id": "QfMpGB0Hberq"
   },
   "outputs": [],
   "source": [
    "token = userdata.get(\"GITHUB_API_KEY\")\n",
    "username = userdata.get(\"GITHUB_USER_NAME\")\n",
    "repo = 'enhancing-ddi-classification-via-textual-arguments'\n",
    "path = '/content/'+ repo"
   ]
  },
  {
   "cell_type": "code",
   "execution_count": null,
   "metadata": {
    "colab": {
     "base_uri": "https://localhost:8080/"
    },
    "executionInfo": {
     "elapsed": 82,
     "status": "ok",
     "timestamp": 1750254659038,
     "user": {
      "displayName": "Kıvanç Bayraktar",
      "userId": "11245950487112733881"
     },
     "user_tz": -180
    },
    "id": "WaQA3mqLbf2y",
    "outputId": "dbba3064-e982-445a-eac4-1a705346b11e"
   },
   "outputs": [],
   "source": [
    "!git clone https://{token}@github.com/{username}/{repo}"
   ]
  },
  {
   "cell_type": "code",
   "execution_count": null,
   "metadata": {
    "colab": {
     "base_uri": "https://localhost:8080/"
    },
    "executionInfo": {
     "elapsed": 64,
     "status": "ok",
     "timestamp": 1750254659104,
     "user": {
      "displayName": "Kıvanç Bayraktar",
      "userId": "11245950487112733881"
     },
     "user_tz": -180
    },
    "id": "EF9RVTdTbg8R",
    "outputId": "60199a2e-3d6e-47df-bc3d-8f8f4a6fa8f2"
   },
   "outputs": [],
   "source": [
    "%cd {repo}"
   ]
  },
  {
   "cell_type": "code",
   "execution_count": null,
   "metadata": {
    "colab": {
     "base_uri": "https://localhost:8080/"
    },
    "executionInfo": {
     "elapsed": 218,
     "status": "ok",
     "timestamp": 1750254659325,
     "user": {
      "displayName": "Kıvanç Bayraktar",
      "userId": "11245950487112733881"
     },
     "user_tz": -180
    },
    "id": "7RwM_XzabhB9",
    "outputId": "b4020775-e370-4aec-d580-97360d343b5a"
   },
   "outputs": [],
   "source": [
    "!pwd"
   ]
  },
  {
   "cell_type": "code",
   "execution_count": null,
   "metadata": {
    "id": "LTh7Dg4kbnKc"
   },
   "outputs": [],
   "source": [
    "%ls"
   ]
  },
  {
   "cell_type": "code",
   "execution_count": null,
   "metadata": {
    "id": "eGmcvRYibqlY"
   },
   "outputs": [],
   "source": [
    "import numpy as np\n",
    "import pandas as pd\n",
    "from drugbank import DrugBankParser\n",
    "from drugbank import DrugBankProcessor\n",
    "from ddi_fw.utils import ZipHelper\n",
    "import os"
   ]
  },
  {
   "cell_type": "code",
   "execution_count": null,
   "metadata": {
    "id": "ygx-V2OmWHRM"
   },
   "outputs": [],
   "source": [
    "import stanza\n",
    "stanza.download(\"en\")"
   ]
  },
  {
   "cell_type": "code",
   "execution_count": null,
   "metadata": {
    "id": "xQVeuiqM2RA5"
   },
   "outputs": [],
   "source": [
    "from ddi_fw.utils import create_folder_if_not_exists"
   ]
  },
  {
   "cell_type": "code",
   "execution_count": null,
   "metadata": {
    "id": "sTp_yd1NdeIC"
   },
   "outputs": [],
   "source": [
    "parser = DrugBankParser(input_path=\"data/drugbank\")\n",
    "# parser.parse(save_path='data/drugbank/drugs', override=True)\n",
    "create_folder_if_not_exists('data/drugbank/zips')\n",
    "if not os.listdir('data/drugbank/zips'):\n",
    "    parser.zip_files(input_path='data/drugbank/drugs',\n",
    "                    output_path='data/drugbank/zips', chunk_size=1000)"
   ]
  },
  {
   "cell_type": "code",
   "execution_count": null,
   "metadata": {
    "id": "IcDHAhhXLqFX"
   },
   "outputs": [],
   "source": [
    "from importlib import resources as impresources\n",
    "x = impresources.files(\"drugbank\").joinpath(\"drugbank.xsd\")\n",
    "x.open().read()"
   ]
  },
  {
   "cell_type": "code",
   "execution_count": null,
   "metadata": {
    "colab": {
     "base_uri": "https://localhost:8080/",
     "height": 1000,
     "referenced_widgets": [
      "c05f0dcbbc37429aa0faf74394cfe9bb",
      "13dc770c6e4d45269626047828b23f60",
      "dd4f2121c53e46f2bdc3276a8ab872b2",
      "bd954196da924f78bb0d1629586f23ea",
      "6a58e369ee3e4ee2b1b9f3f08e186240",
      "721ec0b7c57a43878b7879b1a98b456b",
      "451832f2eb8f45319c83c1208328a9de",
      "711a058b79634dfdb0d969fd5553a0e1",
      "2fa19ae63f3243efa4bff9bf8228b761",
      "369566b089224b228d792750542c0561",
      "cc98bafaefa0485fb39743bb9441cd55"
     ]
    },
    "executionInfo": {
     "elapsed": 94668,
     "status": "error",
     "timestamp": 1750254766310,
     "user": {
      "displayName": "Kıvanç Bayraktar",
      "userId": "11245950487112733881"
     },
     "user_tz": -180
    },
    "id": "9s49YSI-btlP",
    "outputId": "8e74f776-d394-470b-bdb3-f6157997926c"
   },
   "outputs": [],
   "source": [
    "processor = DrugBankProcessor()\n",
    "#if output folder is empty this line will work\n",
    "processor.extract_zip_files(input_path='data/drugbank/zips',\n",
    "                            output_path='data/drugbank/drugs-extracted', override=True)\n",
    "\n",
    "processor.process(input_path='data/drugbank/drugs-extracted',\n",
    "                output_path='data/drugbank', db_path= f'data/drugbank/drugbank.db')#event.db"
   ]
  }
 ],
 "metadata": {
  "accelerator": "GPU",
  "colab": {
   "authorship_tag": "ABX9TyOO4j2TqOMgw09cCAxtl+ec",
   "gpuType": "A100",
   "machine_shape": "hm",
   "provenance": []
  },
  "kernelspec": {
   "display_name": "Python 3",
   "name": "python3"
  },
  "language_info": {
   "name": "python"
  },
  "widgets": {
   "application/vnd.jupyter.widget-state+json": {
    "13dc770c6e4d45269626047828b23f60": {
     "model_module": "@jupyter-widgets/controls",
     "model_module_version": "1.5.0",
     "model_name": "HTMLModel",
     "state": {
      "_dom_classes": [],
      "_model_module": "@jupyter-widgets/controls",
      "_model_module_version": "1.5.0",
      "_model_name": "HTMLModel",
      "_view_count": null,
      "_view_module": "@jupyter-widgets/controls",
      "_view_module_version": "1.5.0",
      "_view_name": "HTMLView",
      "description": "",
      "description_tooltip": null,
      "layout": "IPY_MODEL_721ec0b7c57a43878b7879b1a98b456b",
      "placeholder": "​",
      "style": "IPY_MODEL_451832f2eb8f45319c83c1208328a9de",
      "value": "Downloading https://raw.githubusercontent.com/stanfordnlp/stanza-resources/main/resources_1.10.0.json: "
     }
    },
    "2fa19ae63f3243efa4bff9bf8228b761": {
     "model_module": "@jupyter-widgets/controls",
     "model_module_version": "1.5.0",
     "model_name": "ProgressStyleModel",
     "state": {
      "_model_module": "@jupyter-widgets/controls",
      "_model_module_version": "1.5.0",
      "_model_name": "ProgressStyleModel",
      "_view_count": null,
      "_view_module": "@jupyter-widgets/base",
      "_view_module_version": "1.2.0",
      "_view_name": "StyleView",
      "bar_color": null,
      "description_width": ""
     }
    },
    "369566b089224b228d792750542c0561": {
     "model_module": "@jupyter-widgets/base",
     "model_module_version": "1.2.0",
     "model_name": "LayoutModel",
     "state": {
      "_model_module": "@jupyter-widgets/base",
      "_model_module_version": "1.2.0",
      "_model_name": "LayoutModel",
      "_view_count": null,
      "_view_module": "@jupyter-widgets/base",
      "_view_module_version": "1.2.0",
      "_view_name": "LayoutView",
      "align_content": null,
      "align_items": null,
      "align_self": null,
      "border": null,
      "bottom": null,
      "display": null,
      "flex": null,
      "flex_flow": null,
      "grid_area": null,
      "grid_auto_columns": null,
      "grid_auto_flow": null,
      "grid_auto_rows": null,
      "grid_column": null,
      "grid_gap": null,
      "grid_row": null,
      "grid_template_areas": null,
      "grid_template_columns": null,
      "grid_template_rows": null,
      "height": null,
      "justify_content": null,
      "justify_items": null,
      "left": null,
      "margin": null,
      "max_height": null,
      "max_width": null,
      "min_height": null,
      "min_width": null,
      "object_fit": null,
      "object_position": null,
      "order": null,
      "overflow": null,
      "overflow_x": null,
      "overflow_y": null,
      "padding": null,
      "right": null,
      "top": null,
      "visibility": null,
      "width": null
     }
    },
    "451832f2eb8f45319c83c1208328a9de": {
     "model_module": "@jupyter-widgets/controls",
     "model_module_version": "1.5.0",
     "model_name": "DescriptionStyleModel",
     "state": {
      "_model_module": "@jupyter-widgets/controls",
      "_model_module_version": "1.5.0",
      "_model_name": "DescriptionStyleModel",
      "_view_count": null,
      "_view_module": "@jupyter-widgets/base",
      "_view_module_version": "1.2.0",
      "_view_name": "StyleView",
      "description_width": ""
     }
    },
    "6a58e369ee3e4ee2b1b9f3f08e186240": {
     "model_module": "@jupyter-widgets/base",
     "model_module_version": "1.2.0",
     "model_name": "LayoutModel",
     "state": {
      "_model_module": "@jupyter-widgets/base",
      "_model_module_version": "1.2.0",
      "_model_name": "LayoutModel",
      "_view_count": null,
      "_view_module": "@jupyter-widgets/base",
      "_view_module_version": "1.2.0",
      "_view_name": "LayoutView",
      "align_content": null,
      "align_items": null,
      "align_self": null,
      "border": null,
      "bottom": null,
      "display": null,
      "flex": null,
      "flex_flow": null,
      "grid_area": null,
      "grid_auto_columns": null,
      "grid_auto_flow": null,
      "grid_auto_rows": null,
      "grid_column": null,
      "grid_gap": null,
      "grid_row": null,
      "grid_template_areas": null,
      "grid_template_columns": null,
      "grid_template_rows": null,
      "height": null,
      "justify_content": null,
      "justify_items": null,
      "left": null,
      "margin": null,
      "max_height": null,
      "max_width": null,
      "min_height": null,
      "min_width": null,
      "object_fit": null,
      "object_position": null,
      "order": null,
      "overflow": null,
      "overflow_x": null,
      "overflow_y": null,
      "padding": null,
      "right": null,
      "top": null,
      "visibility": null,
      "width": null
     }
    },
    "711a058b79634dfdb0d969fd5553a0e1": {
     "model_module": "@jupyter-widgets/base",
     "model_module_version": "1.2.0",
     "model_name": "LayoutModel",
     "state": {
      "_model_module": "@jupyter-widgets/base",
      "_model_module_version": "1.2.0",
      "_model_name": "LayoutModel",
      "_view_count": null,
      "_view_module": "@jupyter-widgets/base",
      "_view_module_version": "1.2.0",
      "_view_name": "LayoutView",
      "align_content": null,
      "align_items": null,
      "align_self": null,
      "border": null,
      "bottom": null,
      "display": null,
      "flex": null,
      "flex_flow": null,
      "grid_area": null,
      "grid_auto_columns": null,
      "grid_auto_flow": null,
      "grid_auto_rows": null,
      "grid_column": null,
      "grid_gap": null,
      "grid_row": null,
      "grid_template_areas": null,
      "grid_template_columns": null,
      "grid_template_rows": null,
      "height": null,
      "justify_content": null,
      "justify_items": null,
      "left": null,
      "margin": null,
      "max_height": null,
      "max_width": null,
      "min_height": null,
      "min_width": null,
      "object_fit": null,
      "object_position": null,
      "order": null,
      "overflow": null,
      "overflow_x": null,
      "overflow_y": null,
      "padding": null,
      "right": null,
      "top": null,
      "visibility": null,
      "width": null
     }
    },
    "721ec0b7c57a43878b7879b1a98b456b": {
     "model_module": "@jupyter-widgets/base",
     "model_module_version": "1.2.0",
     "model_name": "LayoutModel",
     "state": {
      "_model_module": "@jupyter-widgets/base",
      "_model_module_version": "1.2.0",
      "_model_name": "LayoutModel",
      "_view_count": null,
      "_view_module": "@jupyter-widgets/base",
      "_view_module_version": "1.2.0",
      "_view_name": "LayoutView",
      "align_content": null,
      "align_items": null,
      "align_self": null,
      "border": null,
      "bottom": null,
      "display": null,
      "flex": null,
      "flex_flow": null,
      "grid_area": null,
      "grid_auto_columns": null,
      "grid_auto_flow": null,
      "grid_auto_rows": null,
      "grid_column": null,
      "grid_gap": null,
      "grid_row": null,
      "grid_template_areas": null,
      "grid_template_columns": null,
      "grid_template_rows": null,
      "height": null,
      "justify_content": null,
      "justify_items": null,
      "left": null,
      "margin": null,
      "max_height": null,
      "max_width": null,
      "min_height": null,
      "min_width": null,
      "object_fit": null,
      "object_position": null,
      "order": null,
      "overflow": null,
      "overflow_x": null,
      "overflow_y": null,
      "padding": null,
      "right": null,
      "top": null,
      "visibility": null,
      "width": null
     }
    },
    "bd954196da924f78bb0d1629586f23ea": {
     "model_module": "@jupyter-widgets/controls",
     "model_module_version": "1.5.0",
     "model_name": "HTMLModel",
     "state": {
      "_dom_classes": [],
      "_model_module": "@jupyter-widgets/controls",
      "_model_module_version": "1.5.0",
      "_model_name": "HTMLModel",
      "_view_count": null,
      "_view_module": "@jupyter-widgets/controls",
      "_view_module_version": "1.5.0",
      "_view_name": "HTMLView",
      "description": "",
      "description_tooltip": null,
      "layout": "IPY_MODEL_369566b089224b228d792750542c0561",
      "placeholder": "​",
      "style": "IPY_MODEL_cc98bafaefa0485fb39743bb9441cd55",
      "value": " 432k/? [00:00&lt;00:00, 29.8MB/s]"
     }
    },
    "c05f0dcbbc37429aa0faf74394cfe9bb": {
     "model_module": "@jupyter-widgets/controls",
     "model_module_version": "1.5.0",
     "model_name": "HBoxModel",
     "state": {
      "_dom_classes": [],
      "_model_module": "@jupyter-widgets/controls",
      "_model_module_version": "1.5.0",
      "_model_name": "HBoxModel",
      "_view_count": null,
      "_view_module": "@jupyter-widgets/controls",
      "_view_module_version": "1.5.0",
      "_view_name": "HBoxView",
      "box_style": "",
      "children": [
       "IPY_MODEL_13dc770c6e4d45269626047828b23f60",
       "IPY_MODEL_dd4f2121c53e46f2bdc3276a8ab872b2",
       "IPY_MODEL_bd954196da924f78bb0d1629586f23ea"
      ],
      "layout": "IPY_MODEL_6a58e369ee3e4ee2b1b9f3f08e186240"
     }
    },
    "cc98bafaefa0485fb39743bb9441cd55": {
     "model_module": "@jupyter-widgets/controls",
     "model_module_version": "1.5.0",
     "model_name": "DescriptionStyleModel",
     "state": {
      "_model_module": "@jupyter-widgets/controls",
      "_model_module_version": "1.5.0",
      "_model_name": "DescriptionStyleModel",
      "_view_count": null,
      "_view_module": "@jupyter-widgets/base",
      "_view_module_version": "1.2.0",
      "_view_name": "StyleView",
      "description_width": ""
     }
    },
    "dd4f2121c53e46f2bdc3276a8ab872b2": {
     "model_module": "@jupyter-widgets/controls",
     "model_module_version": "1.5.0",
     "model_name": "FloatProgressModel",
     "state": {
      "_dom_classes": [],
      "_model_module": "@jupyter-widgets/controls",
      "_model_module_version": "1.5.0",
      "_model_name": "FloatProgressModel",
      "_view_count": null,
      "_view_module": "@jupyter-widgets/controls",
      "_view_module_version": "1.5.0",
      "_view_name": "ProgressView",
      "bar_style": "success",
      "description": "",
      "description_tooltip": null,
      "layout": "IPY_MODEL_711a058b79634dfdb0d969fd5553a0e1",
      "max": 53430,
      "min": 0,
      "orientation": "horizontal",
      "style": "IPY_MODEL_2fa19ae63f3243efa4bff9bf8228b761",
      "value": 53430
     }
    }
   }
  }
 },
 "nbformat": 4,
 "nbformat_minor": 0
}
